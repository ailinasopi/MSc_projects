{
 "cells": [
  {
   "cell_type": "code",
   "execution_count": 3,
   "id": "d664d98e-ab17-4c2f-9fe9-efa2c7147f45",
   "metadata": {},
   "outputs": [],
   "source": [
    "#import datasets\n",
    "import geopandas as gpds\n",
    "from datetime import datetime"
   ]
  },
  {
   "cell_type": "code",
   "execution_count": 4,
   "id": "54a8f75a",
   "metadata": {},
   "outputs": [],
   "source": [
    "import pandas"
   ]
  },
  {
   "cell_type": "code",
   "execution_count": 5,
   "id": "fcd9b1f7-edbb-4561-adb2-ed48b36e8d52",
   "metadata": {},
   "outputs": [],
   "source": [
    "import pandas as pd\n",
    "import pandas.io.sql as sqlio"
   ]
  },
  {
   "cell_type": "code",
   "execution_count": 6,
   "id": "76ab630a-5aac-4d2a-a105-31e811805a0d",
   "metadata": {},
   "outputs": [
    {
     "name": "stdout",
     "output_type": "stream",
     "text": [
      "Requirement already satisfied: findspark in /opt/anaconda3/lib/python3.9/site-packages (2.0.1)\n",
      "Note: you may need to restart the kernel to use updated packages.\n"
     ]
    }
   ],
   "source": [
    "pip install findspark"
   ]
  },
  {
   "cell_type": "code",
   "execution_count": 7,
   "id": "db2de1c5-4722-4923-b9a0-d6f899d09326",
   "metadata": {},
   "outputs": [],
   "source": [
    "import findspark"
   ]
  },
  {
   "cell_type": "code",
   "execution_count": 8,
   "id": "8dfd23d4-0298-4312-8100-121879cecaa6",
   "metadata": {},
   "outputs": [
    {
     "name": "stdout",
     "output_type": "stream",
     "text": [
      "Requirement already satisfied: pyspark in /opt/anaconda3/lib/python3.9/site-packages (3.3.0)\n",
      "Requirement already satisfied: py4j==0.10.9.5 in /opt/anaconda3/lib/python3.9/site-packages (from pyspark) (0.10.9.5)\n",
      "Note: you may need to restart the kernel to use updated packages.\n"
     ]
    }
   ],
   "source": [
    "pip install pyspark"
   ]
  },
  {
   "cell_type": "code",
   "execution_count": 9,
   "id": "3b188d94-63a7-453d-9a32-1950f60ee27d",
   "metadata": {},
   "outputs": [],
   "source": [
    "import pyspark\n",
    "from pyspark.sql import SparkSession\n",
    "from pyspark.sql.functions import split, col,substring,regexp_replace"
   ]
  },
  {
   "cell_type": "code",
   "execution_count": 10,
   "id": "0d64fe7d-d6ba-495c-a5c3-cacbc2f9e02c",
   "metadata": {},
   "outputs": [],
   "source": [
    "import sqlite3"
   ]
  },
  {
   "cell_type": "code",
   "execution_count": 11,
   "id": "5fd95ac5-3264-4911-8b32-dce685db67e9",
   "metadata": {},
   "outputs": [
    {
     "name": "stdout",
     "output_type": "stream",
     "text": [
      "Requirement already satisfied: psycopg2-binary in /opt/anaconda3/lib/python3.9/site-packages (2.9.3)\n",
      "Note: you may need to restart the kernel to use updated packages.\n"
     ]
    }
   ],
   "source": [
    "pip install psycopg2-binary"
   ]
  },
  {
   "cell_type": "code",
   "execution_count": 12,
   "id": "955816b3-9371-4393-b22d-9bb0e9cdbe90",
   "metadata": {},
   "outputs": [],
   "source": [
    "import psycopg2 as ps"
   ]
  },
  {
   "cell_type": "markdown",
   "id": "abf72f06",
   "metadata": {},
   "source": [
    "Connect with Database"
   ]
  },
  {
   "cell_type": "code",
   "execution_count": 13,
   "id": "40b48e75-bf72-4c9b-88f6-3beee4f91f55",
   "metadata": {},
   "outputs": [],
   "source": [
    "conn2 = ps.connect( dbname = \"marineproject\",\n",
    "                    user = \"postgres\",\n",
    "                    password = \"0806\",\n",
    "                    host = \"localhost\",\n",
    "                    port = \"5432\"\n",
    "                  )"
   ]
  },
  {
   "cell_type": "code",
   "execution_count": 14,
   "id": "8d2a81cc-b460-4271-9ddc-90a7ac9ffd06",
   "metadata": {},
   "outputs": [],
   "source": [
    "cursor = conn2.cursor()"
   ]
  },
  {
   "cell_type": "code",
   "execution_count": 15,
   "id": "e3869066-342d-42b2-9da8-5bd99b7bcee9",
   "metadata": {},
   "outputs": [],
   "source": [
    "cursor.execute(\"select version()\")"
   ]
  },
  {
   "cell_type": "code",
   "execution_count": 16,
   "id": "bba53799-2402-4b98-906c-3455c9374611",
   "metadata": {},
   "outputs": [
    {
     "name": "stdout",
     "output_type": "stream",
     "text": [
      "Connection established to:  ('PostgreSQL 14.4 on x86_64-apple-darwin20.6.0, compiled by Apple clang version 12.0.0 (clang-1200.0.32.29), 64-bit',)\n"
     ]
    }
   ],
   "source": [
    "data = cursor.fetchone()\n",
    "print(\"Connection established to: \",data)"
   ]
  },
  {
   "cell_type": "code",
   "execution_count": 17,
   "id": "ef21259a-007e-4a8a-baa7-002e26b661f9",
   "metadata": {},
   "outputs": [],
   "source": [
    "select1 = \"SELECT * FROM vessels WHERE id = '8b4d6f5da0e4676ca5436d6e254edcdeafe1040eb64d0f8a0acc697e3175e6dd'\"\n",
    "cursor.execute(select1)"
   ]
  },
  {
   "cell_type": "code",
   "execution_count": 18,
   "id": "3145f4bb-4fd7-43c8-a1ab-f0a315b7dbf3",
   "metadata": {},
   "outputs": [
    {
     "name": "stdout",
     "output_type": "stream",
     "text": [
      "('8b4d6f5da0e4676ca5436d6e254edcdeafe1040eb64d0f8a0acc697e3175e6dd', Decimal('36'), 'Germany', None, None, None)\n"
     ]
    }
   ],
   "source": [
    "result_set = cursor.fetchall()\n",
    "for x in result_set:\n",
    "    print(x)"
   ]
  },
  {
   "cell_type": "markdown",
   "id": "4ffa5afc-498d-4e89-af96-f3798e82da40",
   "metadata": {
    "tags": []
   },
   "source": [
    "verification that there is ship marks at the date 26/04/2019 and using the vessel id 8b4d6f5da0e4676ca5436d6e254edcdeafe1040eb64d0f8a0acc697e3175e6dd"
   ]
  },
  {
   "cell_type": "code",
   "execution_count": 19,
   "id": "63c28767-6ce7-4407-92b1-7ee256adc11b",
   "metadata": {},
   "outputs": [
    {
     "name": "stdout",
     "output_type": "stream",
     "text": [
      "(4054685, '8b4d6f5da0e4676ca5436d6e254edcdeafe1040eb64d0f8a0acc697e3175e6dd', 23.69928, 37.9061, None, Decimal('349.3'), Decimal('5.4'), '0101000020E610000034BF9A0304B33740EB73B515FBF34240', '0101000020E61000000000000004B3374000000020FBF34240', datetime.datetime(2019, 4, 26, 18, 53, 25))\n",
      "(4054904, '8b4d6f5da0e4676ca5436d6e254edcdeafe1040eb64d0f8a0acc697e3175e6dd', 23.69872, 37.90854, None, Decimal('348.7'), Decimal('6.4'), '0101000020E6100000A60F5D50DFB23740CE8DE9094BF44240', '0101000020E610000000000060DFB23740000000004BF44240', datetime.datetime(2019, 4, 26, 18, 54, 55))\n",
      "(4054760, '8b4d6f5da0e4676ca5436d6e254edcdeafe1040eb64d0f8a0acc697e3175e6dd', 23.69912, 37.90682, None, Decimal('350.2'), Decimal('5.3'), '0101000020E6100000C2FA3F87F9B23740EBAD81AD12F44240', '0101000020E610000000000080F9B23740000000A012F44240', datetime.datetime(2019, 4, 26, 18, 53, 55))\n",
      "(4054835, '8b4d6f5da0e4676ca5436d6e254edcdeafe1040eb64d0f8a0acc697e3175e6dd', 23.69893, 37.90765, None, Decimal('349.6'), Decimal('6.4'), '0101000020E61000007B319413EDB23740711B0DE02DF44240', '0101000020E610000000000020EDB23740000000E02DF44240', datetime.datetime(2019, 4, 26, 18, 54, 25))\n"
     ]
    }
   ],
   "source": [
    "select2 = \"SELECT * FROM positions WHERE vessel_id_v1 = '8b4d6f5da0e4676ca5436d6e254edcdeafe1040eb64d0f8a0acc697e3175e6dd' and t::TEXT LIKE '%2019-04-26%'\"\n",
    "cursor.execute(select2)\n",
    "result_set = cursor.fetchall()\n",
    "for x in result_set:\n",
    "    print(x)"
   ]
  },
  {
   "cell_type": "markdown",
   "id": "cddbfb09",
   "metadata": {},
   "source": [
    "Finding the number of rows using function Count"
   ]
  },
  {
   "cell_type": "code",
   "execution_count": 20,
   "id": "5514e3fe-02d0-4231-ab08-906f70c8b2a1",
   "metadata": {},
   "outputs": [
    {
     "name": "stdout",
     "output_type": "stream",
     "text": [
      "(4,)\n"
     ]
    }
   ],
   "source": [
    "\n",
    "select3 = \"SELECT COUNT(*) FROM positions WHERE vessel_id_v1 = '8b4d6f5da0e4676ca5436d6e254edcdeafe1040eb64d0f8a0acc697e3175e6dd' and t::TEXT LIKE '%2019-04-26%'\"\n",
    "cursor.execute(select3)\n",
    "result = cursor.fetchall()\n",
    "print(result[0])"
   ]
  },
  {
   "cell_type": "markdown",
   "id": "e366f9d7-2a5a-49c4-a2a2-d7215f657c06",
   "metadata": {},
   "source": [
    "As a result , we found four ship marks ."
   ]
  },
  {
   "cell_type": "code",
   "execution_count": 21,
   "id": "2e669cf9-1eaa-462e-9f68-ac0ee89bc5ca",
   "metadata": {
    "scrolled": true,
    "tags": []
   },
   "outputs": [
    {
     "name": "stdout",
     "output_type": "stream",
     "text": [
      "(datetime.datetime(2019, 4, 26, 18, 54, 55),)\n",
      "(datetime.datetime(2019, 4, 26, 18, 54, 25),)\n",
      "(datetime.datetime(2019, 4, 26, 18, 53, 25),)\n",
      "(datetime.datetime(2019, 4, 26, 18, 53, 55),)\n",
      "[(datetime.datetime(2019, 4, 26, 18, 54, 55),), (datetime.datetime(2019, 4, 26, 18, 54, 25),), (datetime.datetime(2019, 4, 26, 18, 53, 25),), (datetime.datetime(2019, 4, 26, 18, 53, 55),)]\n",
      "====TEST=====\n",
      "[(18, 54, 55), (18, 54, 25), (18, 53, 25), (18, 53, 55)]\n"
     ]
    }
   ],
   "source": [
    "select4 = \"SELECT t FROM positions WHERE vessel_id_v1 = '8b4d6f5da0e4676ca5436d6e254edcdeafe1040eb64d0f8a0acc697e3175e6dd' and t::TEXT LIKE '%2019-04-26%'\"\n",
    "cursor.execute(select4)\n",
    "result4 = cursor.fetchall()\n",
    "for x in result4:\n",
    "    print(x)\n",
    "    \n",
    "my_tuple = list(result4)\n",
    "print(my_tuple)\n",
    "\n",
    "print(\"====TEST=====\")\n",
    "times_list=[]\n",
    "for i in result4:\n",
    "    record = (i[0].hour, i[0].minute, i[0].second)\n",
    "    times_list.append(record)\n",
    "    \n",
    "print(times_list)"
   ]
  },
  {
   "cell_type": "code",
   "execution_count": 20,
   "id": "0358aee5-bbc3-4690-a85f-2fa91e69a9c3",
   "metadata": {},
   "outputs": [
    {
     "name": "stdout",
     "output_type": "stream",
     "text": [
      "[[18, 54, 55], [18, 53, 25], [18, 53, 55], [18, 54, 25]]\n"
     ]
    }
   ],
   "source": [
    "list_of_lists = [list(elem) for elem in times_list]\n",
    "print(list_of_lists)"
   ]
  },
  {
   "cell_type": "code",
   "execution_count": 21,
   "id": "2e0b0da9-ed96-4b8f-ba6b-6a6d9ce634ab",
   "metadata": {},
   "outputs": [
    {
     "name": "stdout",
     "output_type": "stream",
     "text": [
      "[18, 54, 55]\n",
      "[18, 53, 25]\n",
      "[18, 53, 55]\n",
      "[18, 54, 25]\n"
     ]
    }
   ],
   "source": [
    "a, b, c, d = list_of_lists\n",
    "print(a)\n",
    "print(b)\n",
    "print(c)\n",
    "print(d)"
   ]
  },
  {
   "cell_type": "code",
   "execution_count": 22,
   "id": "1b789319-da40-46ac-a429-349a616503ea",
   "metadata": {},
   "outputs": [
    {
     "name": "stdout",
     "output_type": "stream",
     "text": [
      "[0, 1, 30]\n"
     ]
    }
   ],
   "source": [
    "A=[]\n",
    "for i, j in zip(a, b):\n",
    "    A.append(i-j)\n",
    "print(A)"
   ]
  },
  {
   "cell_type": "code",
   "execution_count": 23,
   "id": "7136dfbd-1422-49a7-90a8-01b699e77365",
   "metadata": {},
   "outputs": [
    {
     "name": "stdout",
     "output_type": "stream",
     "text": [
      "[0, 0, -30]\n"
     ]
    }
   ],
   "source": [
    "B=[]\n",
    "for i, j in zip(b, c):\n",
    "    B.append(i-j)\n",
    "print(B)"
   ]
  },
  {
   "cell_type": "code",
   "execution_count": 24,
   "id": "68b3bea4-a620-4b5a-bbc0-e47067d12489",
   "metadata": {},
   "outputs": [
    {
     "name": "stdout",
     "output_type": "stream",
     "text": [
      "[0, -1, 30]\n"
     ]
    }
   ],
   "source": [
    "C=[]\n",
    "for i, j in zip(c, d):\n",
    "    C.append(i-j)\n",
    "print(C)"
   ]
  },
  {
   "cell_type": "markdown",
   "id": "23af6be3",
   "metadata": {},
   "source": [
    "Q11"
   ]
  },
  {
   "cell_type": "code",
   "execution_count": 44,
   "id": "19034dd6",
   "metadata": {},
   "outputs": [
    {
     "name": "stdout",
     "output_type": "stream",
     "text": [
      "(datetime.datetime(2019, 4, 26, 18, 54, 25),)\n",
      "(datetime.datetime(2019, 4, 26, 18, 54, 55),)\n",
      "(datetime.datetime(2019, 4, 26, 18, 53, 25),)\n",
      "(datetime.datetime(2019, 4, 26, 18, 53, 55),)\n",
      "[(datetime.datetime(2019, 4, 26, 18, 54, 25),), (datetime.datetime(2019, 4, 26, 18, 54, 55),), (datetime.datetime(2019, 4, 26, 18, 53, 25),), (datetime.datetime(2019, 4, 26, 18, 53, 55),)]\n"
     ]
    }
   ],
   "source": [
    "select5 = \"SELECT t FROM positions WHERE vessel_id_v1 = '8b4d6f5da0e4676ca5436d6e254edcdeafe1040eb64d0f8a0acc697e3175e6dd' and t::TEXT LIKE '%2019-04-26%'\"\n",
    "cursor.execute(select5)\n",
    "result5 = cursor.fetchall()\n",
    "for x in result5:\n",
    "    print(x)\n",
    "    \n",
    "my_tuple = list(result5)\n",
    "print(my_tuple)\n",
    "\n",
    "#df = pd.read_sql('SELECT t FROM positions WHERE vessel_id_v1 =\"8b4d6f5da0e4676ca5436d6e254edcdeafe1040eb64d0f8a0acc697e3175e6dd\" and t::TEXT LIKE \"%2019-04-26%\"',conn2)"
   ]
  },
  {
   "cell_type": "code",
   "execution_count": null,
   "id": "bc8e2a40",
   "metadata": {},
   "outputs": [],
   "source": [
    "#megisti taxitita vasi diadoxikon stigmon\n",
    "test = my_tuple\n",
    "\n",
    "gdf = gpds.GeoDataFrame(test, geometry='points')\n",
    "\n",
    "traj_collection = mpd.TrajectoryCollection(gdf, 'vessel_id_v1', t='t')\n",
    "\n",
    "for trajectory in traj_collection.trajectories: trajectory.add_speed(overwrite=True, name='speed (CRS/sec)')\n",
    "\n",
    "trajectory.df['speed (CRS/sec)'].max()"
   ]
  },
  {
   "cell_type": "code",
   "execution_count": null,
   "id": "a01b7e7e",
   "metadata": {},
   "outputs": [],
   "source": [
    "#Apostasi apo to limani \n",
    "ports = pd.read_csv('/Users/ailinasopileidi/Documents/MsC_UNIPI/2nd semester/Geospatial Data Management and Analytics/eggrafa_CDS209/Projects/Project2022/thalassaDB/ports.csv')\n",
    "\n",
    "ports.loc[len(ports)] = ['PORT_PIRAEUS', 37.94487904282196, 23.640198095336856]\n",
    "ports.loc[len(ports)] = ['MARINA_FLISVOU', 37.931937293600996, 23.68519263497288]\n",
    "ports.loc[len(ports)] = ['LAVRIO_PORT', 37.71257457040942, 24.06336926200022]\n",
    "ports['geoms'] = ports.apply(lambda row: Point(row.lon, row.lat), axis=1)\n",
    "\n",
    "print('Distances vessel from ports (< 0.5):\\n')\n",
    "for x in range (len(ports)-1):\n",
    "    if trajectory.distance(ports['geoms'].iloc[x]) < 0.5:\n",
    "        print(str(ports['name'].iloc[x]) + ': ' + str(trajectory.distance(ports['geoms'].iloc[x])))"
   ]
  }
 ],
 "metadata": {
  "kernelspec": {
   "display_name": "Python 3.9.7 ('base')",
   "language": "python",
   "name": "python3"
  },
  "language_info": {
   "codemirror_mode": {
    "name": "ipython",
    "version": 3
   },
   "file_extension": ".py",
   "mimetype": "text/x-python",
   "name": "python",
   "nbconvert_exporter": "python",
   "pygments_lexer": "ipython3",
   "version": "3.9.7"
  },
  "vscode": {
   "interpreter": {
    "hash": "40d3a090f54c6569ab1632332b64b2c03c39dcf918b08424e98f38b5ae0af88f"
   }
  }
 },
 "nbformat": 4,
 "nbformat_minor": 5
}
